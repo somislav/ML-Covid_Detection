{
 "cells": [
  {
   "cell_type": "markdown",
   "id": "c53ea863",
   "metadata": {},
   "source": [
    "# Negative instances used can be found on:\n",
    "https://www.kaggle.com/datasets/praveengovi/coronahack-chest-xraydataset\n",
    "# Positive instances  used can be found on:\n",
    "https://github.com/ieee8023/covid-chestxray-dataset"
   ]
  },
  {
   "cell_type": "markdown",
   "id": "a2b1c2a5",
   "metadata": {},
   "source": [
    "# Positive images where further edited to folder name 'CoronaPositive' with metadata.csv and folder 'images' \n",
    "# Negative images where further edited to folder name 'CoronaNegative' with Chest_xray_Corona_Metadata.csv and folder 'images'\n"
   ]
  },
  {
   "cell_type": "markdown",
   "id": "e02ca710",
   "metadata": {},
   "source": [
    "# data.npy was too big for commit and was commited as zip file, only needed to extract it as 'data.npy'\n",
    "\n"
   ]
  },
  {
   "cell_type": "code",
   "execution_count": null,
   "id": "d30393fa",
   "metadata": {},
   "outputs": [],
   "source": [
    "\n",
    "import numpy as np\n",
    "\n",
    "data = np.load('data.npy')\n",
    "target = np.load('target.npy')"
   ]
  },
  {
   "cell_type": "code",
   "execution_count": 2,
   "id": "2c732fe2",
   "metadata": {},
   "outputs": [],
   "source": [
    "import tensorflow as tf\n",
    "from tensorflow import keras"
   ]
  },
  {
   "cell_type": "code",
   "execution_count": 3,
   "id": "179c2138",
   "metadata": {},
   "outputs": [],
   "source": [
    "from keras.models import Sequential\n",
    "from keras.layers import Input, Dense, Dropout, Flatten\n",
    "from keras.layers import Conv2D, Activation, MaxPooling2D\n",
    "from keras.optimizers import Adam\n",
    "from keras.losses import CategoricalCrossentropy\n"
   ]
  },
  {
   "cell_type": "code",
   "execution_count": 4,
   "id": "6e66042d",
   "metadata": {},
   "outputs": [
    {
     "name": "stdout",
     "output_type": "stream",
     "text": [
      "Model: \"sequential\"\n",
      "_________________________________________________________________\n",
      " Layer (type)                Output Shape              Param #   \n",
      "=================================================================\n",
      " conv2d (Conv2D)             (None, 98, 98, 64)        640       \n",
      "                                                                 \n",
      " activation (Activation)     (None, 98, 98, 64)        0         \n",
      "                                                                 \n",
      " max_pooling2d (MaxPooling2D  (None, 49, 49, 64)       0         \n",
      " )                                                               \n",
      "                                                                 \n",
      " conv2d_1 (Conv2D)           (None, 47, 47, 32)        18464     \n",
      "                                                                 \n",
      " activation_1 (Activation)   (None, 47, 47, 32)        0         \n",
      "                                                                 \n",
      " max_pooling2d_1 (MaxPooling  (None, 23, 23, 32)       0         \n",
      " 2D)                                                             \n",
      "                                                                 \n",
      " flatten (Flatten)           (None, 16928)             0         \n",
      "                                                                 \n",
      " dropout (Dropout)           (None, 16928)             0         \n",
      "                                                                 \n",
      " dense (Dense)               (None, 128)               2166912   \n",
      "                                                                 \n",
      " dropout_1 (Dropout)         (None, 128)               0         \n",
      "                                                                 \n",
      " dense_1 (Dense)             (None, 64)                8256      \n",
      "                                                                 \n",
      " dropout_2 (Dropout)         (None, 64)                0         \n",
      "                                                                 \n",
      " dense_2 (Dense)             (None, 2)                 130       \n",
      "                                                                 \n",
      "=================================================================\n",
      "Total params: 2,194,402\n",
      "Trainable params: 2,194,402\n",
      "Non-trainable params: 0\n",
      "_________________________________________________________________\n"
     ]
    }
   ],
   "source": [
    "input_shape = data.shape[1:] # (50,50,1)\n",
    "model = Sequential()\n",
    "model.add(Input(shape=input_shape))\n",
    "\n",
    "model.add(Conv2D(64,(3,3)))\n",
    "model.add(Activation('relu'))\n",
    "model.add(MaxPooling2D(pool_size=(2,2)))\n",
    "\n",
    "model.add(Conv2D(32,(3,3)))\n",
    "model.add(Activation('relu'))\n",
    "model.add(MaxPooling2D(pool_size=(2,2)))\n",
    "\n",
    "model.add(Flatten())\n",
    "model.add(Dropout(0.5))\n",
    "model.add(Dense(128,activation='relu'))\n",
    "model.add(Dropout(0.5))\n",
    "model.add(Dense(64,activation='relu'))\n",
    "model.add(Dropout(0.5))\n",
    "model.add(Dense(2, input_dim=128, activation='softmax'))\n",
    "model.compile(loss=CategoricalCrossentropy(), optimizer=Adam(learning_rate=0.0001),metrics=['accuracy'])\n",
    "model.summary()"
   ]
  },
  {
   "cell_type": "code",
   "execution_count": 62,
   "id": "40e9ad92",
   "metadata": {},
   "outputs": [
    {
     "name": "stdout",
     "output_type": "stream",
     "text": [
      "X_train shape:  (1524, 100, 100, 1)\n",
      "X_test shape:  (381, 100, 100, 1)\n",
      "X_train dtype:  float64\n",
      "first 5 X_train instances [[[[0.        ]\n",
      "   [0.        ]\n",
      "   [0.        ]\n",
      "   ...\n",
      "   [0.        ]\n",
      "   [0.        ]\n",
      "   [0.        ]]\n",
      "\n",
      "  [[0.        ]\n",
      "   [0.        ]\n",
      "   [0.        ]\n",
      "   ...\n",
      "   [0.        ]\n",
      "   [0.        ]\n",
      "   [0.        ]]\n",
      "\n",
      "  [[0.        ]\n",
      "   [0.        ]\n",
      "   [0.        ]\n",
      "   ...\n",
      "   [0.        ]\n",
      "   [0.        ]\n",
      "   [0.        ]]\n",
      "\n",
      "  ...\n",
      "\n",
      "  [[0.18039216]\n",
      "   [0.28235294]\n",
      "   [0.3254902 ]\n",
      "   ...\n",
      "   [0.        ]\n",
      "   [0.        ]\n",
      "   [0.01176471]]\n",
      "\n",
      "  [[0.18823529]\n",
      "   [0.2745098 ]\n",
      "   [0.32941176]\n",
      "   ...\n",
      "   [0.        ]\n",
      "   [0.        ]\n",
      "   [0.00392157]]\n",
      "\n",
      "  [[0.18823529]\n",
      "   [0.26666667]\n",
      "   [0.31764706]\n",
      "   ...\n",
      "   [0.        ]\n",
      "   [0.        ]\n",
      "   [0.01960784]]]\n",
      "\n",
      "\n",
      " [[[0.04313725]\n",
      "   [0.07058824]\n",
      "   [0.08235294]\n",
      "   ...\n",
      "   [0.43921569]\n",
      "   [0.43921569]\n",
      "   [0.4745098 ]]\n",
      "\n",
      "  [[0.09803922]\n",
      "   [0.11764706]\n",
      "   [0.11372549]\n",
      "   ...\n",
      "   [0.46666667]\n",
      "   [0.43529412]\n",
      "   [0.49411765]]\n",
      "\n",
      "  [[0.16470588]\n",
      "   [0.17254902]\n",
      "   [0.1372549 ]\n",
      "   ...\n",
      "   [0.42745098]\n",
      "   [0.44313725]\n",
      "   [0.47058824]]\n",
      "\n",
      "  ...\n",
      "\n",
      "  [[0.        ]\n",
      "   [0.        ]\n",
      "   [0.        ]\n",
      "   ...\n",
      "   [0.5372549 ]\n",
      "   [0.58823529]\n",
      "   [0.32156863]]\n",
      "\n",
      "  [[0.        ]\n",
      "   [0.        ]\n",
      "   [0.        ]\n",
      "   ...\n",
      "   [0.56470588]\n",
      "   [0.5254902 ]\n",
      "   [0.30196078]]\n",
      "\n",
      "  [[0.        ]\n",
      "   [0.        ]\n",
      "   [0.        ]\n",
      "   ...\n",
      "   [0.54509804]\n",
      "   [0.45098039]\n",
      "   [0.29411765]]]\n",
      "\n",
      "\n",
      " [[[0.30196078]\n",
      "   [0.30588235]\n",
      "   [0.3254902 ]\n",
      "   ...\n",
      "   [0.54901961]\n",
      "   [0.29803922]\n",
      "   [0.28627451]]\n",
      "\n",
      "  [[0.27058824]\n",
      "   [0.28627451]\n",
      "   [0.30196078]\n",
      "   ...\n",
      "   [0.44313725]\n",
      "   [0.27058824]\n",
      "   [0.28627451]]\n",
      "\n",
      "  [[0.23921569]\n",
      "   [0.27058824]\n",
      "   [0.27058824]\n",
      "   ...\n",
      "   [0.28235294]\n",
      "   [0.2627451 ]\n",
      "   [0.27058824]]\n",
      "\n",
      "  ...\n",
      "\n",
      "  [[0.        ]\n",
      "   [0.        ]\n",
      "   [0.        ]\n",
      "   ...\n",
      "   [0.        ]\n",
      "   [0.        ]\n",
      "   [0.        ]]\n",
      "\n",
      "  [[0.        ]\n",
      "   [0.        ]\n",
      "   [0.        ]\n",
      "   ...\n",
      "   [0.        ]\n",
      "   [0.        ]\n",
      "   [0.        ]]\n",
      "\n",
      "  [[0.        ]\n",
      "   [0.        ]\n",
      "   [0.        ]\n",
      "   ...\n",
      "   [0.        ]\n",
      "   [0.        ]\n",
      "   [0.        ]]]\n",
      "\n",
      "\n",
      " [[[0.        ]\n",
      "   [0.        ]\n",
      "   [0.09803922]\n",
      "   ...\n",
      "   [0.56862745]\n",
      "   [0.65490196]\n",
      "   [0.4       ]]\n",
      "\n",
      "  [[0.        ]\n",
      "   [0.        ]\n",
      "   [0.09803922]\n",
      "   ...\n",
      "   [0.54901961]\n",
      "   [0.5372549 ]\n",
      "   [0.40392157]]\n",
      "\n",
      "  [[0.        ]\n",
      "   [0.        ]\n",
      "   [0.10196078]\n",
      "   ...\n",
      "   [0.60784314]\n",
      "   [0.38431373]\n",
      "   [0.4       ]]\n",
      "\n",
      "  ...\n",
      "\n",
      "  [[0.        ]\n",
      "   [0.        ]\n",
      "   [0.        ]\n",
      "   ...\n",
      "   [0.        ]\n",
      "   [0.        ]\n",
      "   [0.        ]]\n",
      "\n",
      "  [[0.        ]\n",
      "   [0.        ]\n",
      "   [0.        ]\n",
      "   ...\n",
      "   [0.        ]\n",
      "   [0.        ]\n",
      "   [0.        ]]\n",
      "\n",
      "  [[0.        ]\n",
      "   [0.        ]\n",
      "   [0.        ]\n",
      "   ...\n",
      "   [0.        ]\n",
      "   [0.        ]\n",
      "   [0.        ]]]\n",
      "\n",
      "\n",
      " [[[0.25882353]\n",
      "   [0.30588235]\n",
      "   [0.36470588]\n",
      "   ...\n",
      "   [0.38431373]\n",
      "   [0.40392157]\n",
      "   [0.41960784]]\n",
      "\n",
      "  [[0.25098039]\n",
      "   [0.32156863]\n",
      "   [0.36470588]\n",
      "   ...\n",
      "   [0.41960784]\n",
      "   [0.42745098]\n",
      "   [0.42745098]]\n",
      "\n",
      "  [[0.23921569]\n",
      "   [0.32156863]\n",
      "   [0.36470588]\n",
      "   ...\n",
      "   [0.44705882]\n",
      "   [0.46666667]\n",
      "   [0.44313725]]\n",
      "\n",
      "  ...\n",
      "\n",
      "  [[0.        ]\n",
      "   [0.        ]\n",
      "   [0.        ]\n",
      "   ...\n",
      "   [0.        ]\n",
      "   [0.        ]\n",
      "   [0.        ]]\n",
      "\n",
      "  [[0.        ]\n",
      "   [0.        ]\n",
      "   [0.        ]\n",
      "   ...\n",
      "   [0.        ]\n",
      "   [0.        ]\n",
      "   [0.        ]]\n",
      "\n",
      "  [[0.        ]\n",
      "   [0.        ]\n",
      "   [0.        ]\n",
      "   ...\n",
      "   [0.        ]\n",
      "   [0.        ]\n",
      "   [0.        ]]]]\n"
     ]
    },
    {
     "ename": "AttributeError",
     "evalue": "'numpy.ndarray' object has no attribute 'info'",
     "output_type": "error",
     "traceback": [
      "\u001b[1;31m---------------------------------------------------------------------------\u001b[0m",
      "\u001b[1;31mAttributeError\u001b[0m                            Traceback (most recent call last)",
      "\u001b[1;32m~\\AppData\\Local\\Temp/ipykernel_21012/1090057256.py\u001b[0m in \u001b[0;36m<module>\u001b[1;34m\u001b[0m\n\u001b[0;32m      7\u001b[0m \u001b[0mprint\u001b[0m\u001b[1;33m(\u001b[0m\u001b[1;34m'X_train dtype: '\u001b[0m\u001b[1;33m,\u001b[0m\u001b[0mX_train\u001b[0m\u001b[1;33m.\u001b[0m\u001b[0mdtype\u001b[0m\u001b[1;33m)\u001b[0m\u001b[1;33m\u001b[0m\u001b[1;33m\u001b[0m\u001b[0m\n\u001b[0;32m      8\u001b[0m \u001b[0mprint\u001b[0m\u001b[1;33m(\u001b[0m\u001b[1;34m'first 5 X_train instances'\u001b[0m\u001b[1;33m,\u001b[0m \u001b[0mX_train\u001b[0m\u001b[1;33m[\u001b[0m\u001b[1;36m0\u001b[0m\u001b[1;33m:\u001b[0m\u001b[1;36m5\u001b[0m\u001b[1;33m]\u001b[0m\u001b[1;33m)\u001b[0m\u001b[1;33m\u001b[0m\u001b[1;33m\u001b[0m\u001b[0m\n\u001b[1;32m----> 9\u001b[1;33m \u001b[0mX_train\u001b[0m\u001b[1;33m.\u001b[0m\u001b[0minfo\u001b[0m\u001b[1;33m(\u001b[0m\u001b[1;33m)\u001b[0m\u001b[1;33m\u001b[0m\u001b[1;33m\u001b[0m\u001b[0m\n\u001b[0m",
      "\u001b[1;31mAttributeError\u001b[0m: 'numpy.ndarray' object has no attribute 'info'"
     ]
    }
   ],
   "source": [
    "from sklearn.model_selection import train_test_split\n",
    "\n",
    "X_train, X_test, y_train, y_test = train_test_split(data,target, test_size=0.2)\n",
    "# analysis of the data\n",
    "print('X_train shape: ', X_train.shape)\n",
    "print('X_test shape: ', X_test.shape)\n",
    "print('X_train dtype: ',X_train.dtype)\n",
    "print('first 5 X_train instances', X_train[0:5])\n",
    "X_train.info()\n"
   ]
  },
  {
   "cell_type": "code",
   "execution_count": 6,
   "id": "bc968209",
   "metadata": {},
   "outputs": [],
   "source": [
    "epochs = 20\n",
    "batch_size=32"
   ]
  },
  {
   "cell_type": "code",
   "execution_count": 7,
   "id": "b6d7970f",
   "metadata": {},
   "outputs": [
    {
     "name": "stdout",
     "output_type": "stream",
     "text": [
      "Epoch 1/20\n",
      "43/43 [==============================] - 14s 303ms/step - loss: 0.5957 - accuracy: 0.6944 - val_loss: 0.4802 - val_accuracy: 0.7190\n",
      "Epoch 2/20\n",
      "43/43 [==============================] - 14s 320ms/step - loss: 0.4442 - accuracy: 0.7768 - val_loss: 0.2725 - val_accuracy: 0.9150\n",
      "Epoch 3/20\n",
      "43/43 [==============================] - 13s 313ms/step - loss: 0.2905 - accuracy: 0.8964 - val_loss: 0.1553 - val_accuracy: 0.9542\n",
      "Epoch 4/20\n",
      "43/43 [==============================] - 13s 301ms/step - loss: 0.1961 - accuracy: 0.9329 - val_loss: 0.0952 - val_accuracy: 0.9739\n",
      "Epoch 5/20\n",
      "43/43 [==============================] - 13s 305ms/step - loss: 0.1504 - accuracy: 0.9497 - val_loss: 0.0660 - val_accuracy: 0.9804\n",
      "Epoch 6/20\n",
      "43/43 [==============================] - 13s 310ms/step - loss: 0.1259 - accuracy: 0.9606 - val_loss: 0.0513 - val_accuracy: 0.9804\n",
      "Epoch 7/20\n",
      "43/43 [==============================] - 13s 304ms/step - loss: 0.1000 - accuracy: 0.9708 - val_loss: 0.0378 - val_accuracy: 0.9869\n",
      "Epoch 8/20\n",
      "43/43 [==============================] - 14s 321ms/step - loss: 0.0817 - accuracy: 0.9752 - val_loss: 0.0293 - val_accuracy: 0.9935\n",
      "Epoch 9/20\n",
      "43/43 [==============================] - 14s 320ms/step - loss: 0.0823 - accuracy: 0.9803 - val_loss: 0.0274 - val_accuracy: 0.9935\n",
      "Epoch 10/20\n",
      "43/43 [==============================] - 15s 340ms/step - loss: 0.0702 - accuracy: 0.9796 - val_loss: 0.0223 - val_accuracy: 0.9935\n",
      "Epoch 11/20\n",
      "43/43 [==============================] - 15s 342ms/step - loss: 0.0744 - accuracy: 0.9803 - val_loss: 0.0224 - val_accuracy: 0.9935\n",
      "Epoch 12/20\n",
      "43/43 [==============================] - 15s 346ms/step - loss: 0.0712 - accuracy: 0.9781 - val_loss: 0.0257 - val_accuracy: 0.9935\n",
      "Epoch 13/20\n",
      "43/43 [==============================] - 14s 317ms/step - loss: 0.0589 - accuracy: 0.9832 - val_loss: 0.0316 - val_accuracy: 0.9869\n",
      "Epoch 14/20\n",
      "43/43 [==============================] - 13s 313ms/step - loss: 0.0654 - accuracy: 0.9825 - val_loss: 0.0185 - val_accuracy: 0.9935\n",
      "Epoch 15/20\n",
      "43/43 [==============================] - 14s 319ms/step - loss: 0.0575 - accuracy: 0.9840 - val_loss: 0.0199 - val_accuracy: 1.0000\n",
      "Epoch 16/20\n",
      "43/43 [==============================] - 14s 314ms/step - loss: 0.0508 - accuracy: 0.9847 - val_loss: 0.0161 - val_accuracy: 0.9935\n",
      "Epoch 17/20\n",
      "43/43 [==============================] - 13s 314ms/step - loss: 0.0518 - accuracy: 0.9869 - val_loss: 0.0152 - val_accuracy: 0.9935\n",
      "Epoch 18/20\n",
      "43/43 [==============================] - 14s 315ms/step - loss: 0.0401 - accuracy: 0.9876 - val_loss: 0.0113 - val_accuracy: 0.9935\n",
      "Epoch 19/20\n",
      "43/43 [==============================] - 14s 327ms/step - loss: 0.0363 - accuracy: 0.9905 - val_loss: 0.0096 - val_accuracy: 1.0000\n",
      "Epoch 20/20\n",
      "43/43 [==============================] - 14s 328ms/step - loss: 0.0453 - accuracy: 0.9876 - val_loss: 0.0149 - val_accuracy: 0.9935\n"
     ]
    }
   ],
   "source": [
    "history = model.fit(X_train, y_train, epochs=epochs, batch_size=batch_size, validation_split=0.1, verbose=1 )"
   ]
  },
  {
   "cell_type": "code",
   "execution_count": 8,
   "id": "fa9bfede",
   "metadata": {},
   "outputs": [],
   "source": [
    "from matplotlib import pyplot as plt\n"
   ]
  },
  {
   "cell_type": "code",
   "execution_count": 9,
   "id": "c87efed8",
   "metadata": {},
   "outputs": [
    {
     "data": {
      "image/png": "[encoded data removed]",
      "text/plain": [
       "<Figure size 432x288 with 1 Axes>"
      ]
     },
     "metadata": {
      "needs_background": "light"
     },
     "output_type": "display_data"
    }
   ],
   "source": [
    "plt.title('Loss')\n",
    "plt.xlabel('number of epochs')\n",
    "plt.xticks(np.arange(0,epochs))\n",
    "plt.ylabel('loss')\n",
    "plt.plot(np.arange(0, epochs), history.history['loss'],'r', label='training_loss')\n",
    "plt.plot(np.arange(0, epochs), history.history['val_loss'], label='validation_loss')\n",
    "plt.legend(loc='best')\n",
    "plt.show()"
   ]
  },
  {
   "cell_type": "code",
   "execution_count": 10,
   "id": "05298963",
   "metadata": {},
   "outputs": [
    {
     "data": {
      "image/png": "[encoded data removed]",
      "text/plain": [
       "<Figure size 432x288 with 1 Axes>"
      ]
     },
     "metadata": {
      "needs_background": "light"
     },
     "output_type": "display_data"
    }
   ],
   "source": [
    "plt.title('Accuracy')\n",
    "plt.xlabel('number of epochs')\n",
    "plt.xticks(np.arange(0, epochs))\n",
    "plt.ylabel('Accuracy')\n",
    "plt.plot(np.arange(0, epochs), history.history['accuracy'],'r',label = 'training_accuracy')\n",
    "plt.plot(np.arange(0, epochs), history.history['val_accuracy'],label='validation_accuracy')\n",
    "plt.legend(loc='best')\n",
    "plt.show()"
   ]
  },
  {
   "cell_type": "code",
   "execution_count": 29,
   "id": "61bf3f5c",
   "metadata": {},
   "outputs": [
    {
     "name": "stdout",
     "output_type": "stream",
     "text": [
      "12/12 [==============================] - 1s 72ms/step - loss: 0.0684 - accuracy: 0.9816\n",
      "Test loss:  0.0684162825345993\n",
      "Test accuracy:  0.9816272854804993\n"
     ]
    }
   ],
   "source": [
    "test_scores = model.evaluate(X_test, y_test)\n",
    "print('Test loss: ', test_scores[0])\n",
    "print('Test accuracy: ', test_scores[1])"
   ]
  },
  {
   "cell_type": "code",
   "execution_count": 14,
   "id": "60720425",
   "metadata": {},
   "outputs": [
    {
     "name": "stdout",
     "output_type": "stream",
     "text": [
      "Epoch 1/12\n",
      "39/39 [==============================] - 12s 316ms/step - loss: 0.0188 - accuracy: 0.9967 - val_loss: 0.0189 - val_accuracy: 0.9967\n",
      "Epoch 2/12\n",
      "39/39 [==============================] - 13s 324ms/step - loss: 0.0218 - accuracy: 0.9902 - val_loss: 0.0167 - val_accuracy: 0.9967\n",
      "Epoch 3/12\n",
      "39/39 [==============================] - 14s 367ms/step - loss: 0.0227 - accuracy: 0.9943 - val_loss: 0.0202 - val_accuracy: 0.9934\n",
      "Epoch 4/12\n",
      "39/39 [==============================] - 14s 370ms/step - loss: 0.0236 - accuracy: 0.9934 - val_loss: 0.0187 - val_accuracy: 0.9934\n",
      "Epoch 5/12\n",
      "39/39 [==============================] - 17s 446ms/step - loss: 0.0139 - accuracy: 0.9967 - val_loss: 0.0175 - val_accuracy: 0.9967\n",
      "Epoch 6/12\n",
      "39/39 [==============================] - 16s 401ms/step - loss: 0.0197 - accuracy: 0.9918 - val_loss: 0.0190 - val_accuracy: 0.9934\n",
      "Epoch 7/12\n",
      "39/39 [==============================] - 15s 374ms/step - loss: 0.0178 - accuracy: 0.9934 - val_loss: 0.0267 - val_accuracy: 0.9902\n",
      "Epoch 8/12\n",
      "39/39 [==============================] - 13s 344ms/step - loss: 0.0157 - accuracy: 0.9959 - val_loss: 0.0204 - val_accuracy: 0.9934\n",
      "Epoch 9/12\n",
      "39/39 [==============================] - 13s 330ms/step - loss: 0.0179 - accuracy: 0.9910 - val_loss: 0.0195 - val_accuracy: 0.9934\n",
      "Epoch 10/12\n",
      "39/39 [==============================] - 13s 337ms/step - loss: 0.0200 - accuracy: 0.9918 - val_loss: 0.0231 - val_accuracy: 0.9934\n",
      "Epoch 11/12\n",
      "39/39 [==============================] - 13s 322ms/step - loss: 0.0206 - accuracy: 0.9943 - val_loss: 0.0215 - val_accuracy: 0.9934\n",
      "Epoch 12/12\n",
      "39/39 [==============================] - 13s 328ms/step - loss: 0.0172 - accuracy: 0.9926 - val_loss: 0.0193 - val_accuracy: 0.9967\n"
     ]
    }
   ],
   "source": [
    "#adjusting the number of epochs to 12\n",
    "epochs = 12\n",
    "batch_size=32\n",
    "history = model.fit(X_train, y_train, epochs=epochs, batch_size=batch_size, validation_split=0.2, verbose=1 )"
   ]
  },
  {
   "cell_type": "code",
   "execution_count": 15,
   "id": "9ca387ee",
   "metadata": {},
   "outputs": [
    {
     "data": {
      "image/png": "[encoded data removed]",
      "text/plain": [
       "<Figure size 432x288 with 1 Axes>"
      ]
     },
     "metadata": {
      "needs_background": "light"
     },
     "output_type": "display_data"
    }
   ],
   "source": [
    "plt.title('Loss')\n",
    "plt.xlabel('number of epochs')\n",
    "plt.xticks(np.arange(0,epochs))\n",
    "plt.ylabel('loss')\n",
    "plt.plot(np.arange(0, epochs), history.history['loss'],'r', label='training_loss')\n",
    "plt.plot(np.arange(0, epochs), history.history['val_loss'], label='validation_loss')\n",
    "plt.legend(loc='best')\n",
    "plt.show()"
   ]
  },
  {
   "cell_type": "code",
   "execution_count": 16,
   "id": "79a2ba68",
   "metadata": {},
   "outputs": [
    {
     "data": {
      "image/png": "[encoded data removed]",
      "text/plain": [
       "<Figure size 432x288 with 1 Axes>"
      ]
     },
     "metadata": {
      "needs_background": "light"
     },
     "output_type": "display_data"
    }
   ],
   "source": [
    "plt.title('Accuracy')\n",
    "plt.xlabel('number of epochs')\n",
    "plt.xticks(np.arange(0, epochs))\n",
    "plt.ylabel('Accuracy')\n",
    "plt.plot(np.arange(0, epochs), history.history['accuracy'],'r',label = 'training_accuracy')\n",
    "plt.plot(np.arange(0, epochs), history.history['val_accuracy'],label='validation_accuracy')\n",
    "plt.legend(loc='best')\n",
    "plt.show()"
   ]
  },
  {
   "cell_type": "code",
   "execution_count": 18,
   "id": "133007bd",
   "metadata": {},
   "outputs": [
    {
     "name": "stdout",
     "output_type": "stream",
     "text": [
      "12/12 [==============================] - 1s 76ms/step - loss: 0.7510 - accuracy: 0.2992\n",
      "Test loss:  0.7510401606559753\n",
      "Test accuracy:  0.29921260476112366\n"
     ]
    }
   ],
   "source": [
    "test_scores = model.evaluate(X_test, y_test)\n",
    "print('Test loss: ', test_scores[0])\n",
    "print('Test accuracy: ', test_scores[1])"
   ]
  },
  {
   "cell_type": "code",
   "execution_count": 51,
   "id": "0d549c93",
   "metadata": {},
   "outputs": [],
   "source": [
    "model_path = 'covid19_different_epochs_classifier.h5'\n",
    "model.save(model_path)"
   ]
  },
  {
   "cell_type": "code",
   "execution_count": 39,
   "id": "0022ab06",
   "metadata": {},
   "outputs": [
    {
     "name": "stdout",
     "output_type": "stream",
     "text": [
      "Model: \"sequential_3\"\n",
      "_________________________________________________________________\n",
      " Layer (type)                Output Shape              Param #   \n",
      "=================================================================\n",
      " conv2d_6 (Conv2D)           (None, 98, 98, 64)        640       \n",
      "                                                                 \n",
      " activation_6 (Activation)   (None, 98, 98, 64)        0         \n",
      "                                                                 \n",
      " max_pooling2d_6 (MaxPooling  (None, 49, 49, 64)       0         \n",
      " 2D)                                                             \n",
      "                                                                 \n",
      " conv2d_7 (Conv2D)           (None, 47, 47, 32)        18464     \n",
      "                                                                 \n",
      " activation_7 (Activation)   (None, 47, 47, 32)        0         \n",
      "                                                                 \n",
      " max_pooling2d_7 (MaxPooling  (None, 23, 23, 32)       0         \n",
      " 2D)                                                             \n",
      "                                                                 \n",
      " flatten_3 (Flatten)         (None, 16928)             0         \n",
      "                                                                 \n",
      " dropout_9 (Dropout)         (None, 16928)             0         \n",
      "                                                                 \n",
      " dense_9 (Dense)             (None, 128)               2166912   \n",
      "                                                                 \n",
      " dropout_10 (Dropout)        (None, 128)               0         \n",
      "                                                                 \n",
      " dense_10 (Dense)            (None, 64)                8256      \n",
      "                                                                 \n",
      " dropout_11 (Dropout)        (None, 64)                0         \n",
      "                                                                 \n",
      " dense_11 (Dense)            (None, 2)                 130       \n",
      "                                                                 \n",
      "=================================================================\n",
      "Total params: 2,194,402\n",
      "Trainable params: 2,194,402\n",
      "Non-trainable params: 0\n",
      "_________________________________________________________________\n"
     ]
    }
   ],
   "source": [
    "#adjusting model with different dropout rates\n",
    "input_shape = data.shape[1:] # (50,50,1)\n",
    "model = Sequential()\n",
    "model.add(Input(shape=input_shape))\n",
    "\n",
    "model.add(Conv2D(64,(3,3)))\n",
    "model.add(Activation('relu'))\n",
    "model.add(MaxPooling2D(pool_size=(2,2)))\n",
    "\n",
    "model.add(Conv2D(32,(3,3)))\n",
    "model.add(Activation('relu'))\n",
    "model.add(MaxPooling2D(pool_size=(2,2)))\n",
    "\n",
    "model.add(Flatten())\n",
    "model.add(Dropout(0.25))\n",
    "model.add(Dense(128,activation='relu'))\n",
    "model.add(Dropout(0.25))\n",
    "model.add(Dense(64,activation='relu'))\n",
    "model.add(Dropout(0.25))\n",
    "model.add(Dense(2, input_dim=128, activation='softmax'))\n",
    "model.compile(loss=CategoricalCrossentropy(), optimizer=Adam(learning_rate=0.0001),metrics=['accuracy'])\n",
    "model.summary()"
   ]
  },
  {
   "cell_type": "code",
   "execution_count": 19,
   "id": "3e95b4e6",
   "metadata": {},
   "outputs": [
    {
     "name": "stdout",
     "output_type": "stream",
     "text": [
      "Epoch 1/12\n",
      "43/43 [==============================] - 13s 287ms/step - loss: 0.5753 - accuracy: 0.7068 - val_loss: 0.4341 - val_accuracy: 0.7582\n",
      "Epoch 2/12\n",
      "43/43 [==============================] - 12s 277ms/step - loss: 0.3707 - accuracy: 0.8570 - val_loss: 0.2064 - val_accuracy: 0.9608\n",
      "Epoch 3/12\n",
      "43/43 [==============================] - 13s 295ms/step - loss: 0.2180 - accuracy: 0.9278 - val_loss: 0.1226 - val_accuracy: 0.9542\n",
      "Epoch 4/12\n",
      "43/43 [==============================] - 13s 299ms/step - loss: 0.1752 - accuracy: 0.9497 - val_loss: 0.0839 - val_accuracy: 0.9673\n",
      "Epoch 5/12\n",
      "43/43 [==============================] - 13s 295ms/step - loss: 0.1283 - accuracy: 0.9599 - val_loss: 0.0709 - val_accuracy: 0.9739\n",
      "Epoch 6/12\n",
      "43/43 [==============================] - 12s 283ms/step - loss: 0.1121 - accuracy: 0.9643 - val_loss: 0.0570 - val_accuracy: 0.9804\n",
      "Epoch 7/12\n",
      "43/43 [==============================] - 12s 281ms/step - loss: 0.0909 - accuracy: 0.9708 - val_loss: 0.0368 - val_accuracy: 0.9935\n",
      "Epoch 8/12\n",
      "43/43 [==============================] - 12s 286ms/step - loss: 0.0893 - accuracy: 0.9686 - val_loss: 0.0466 - val_accuracy: 0.9804\n",
      "Epoch 9/12\n",
      "43/43 [==============================] - 13s 297ms/step - loss: 0.0675 - accuracy: 0.9774 - val_loss: 0.0373 - val_accuracy: 0.9804\n",
      "Epoch 10/12\n",
      "43/43 [==============================] - 13s 311ms/step - loss: 0.0703 - accuracy: 0.9781 - val_loss: 0.0172 - val_accuracy: 0.9935\n",
      "Epoch 11/12\n",
      "43/43 [==============================] - 15s 338ms/step - loss: 0.0591 - accuracy: 0.9825 - val_loss: 0.0251 - val_accuracy: 0.9869\n",
      "Epoch 12/12\n",
      "43/43 [==============================] - 15s 343ms/step - loss: 0.0530 - accuracy: 0.9796 - val_loss: 0.0101 - val_accuracy: 1.0000\n"
     ]
    }
   ],
   "source": [
    "history = model.fit(X_train, y_train, epochs=epochs, batch_size=batch_size, validation_split=0.1, verbose=1)"
   ]
  },
  {
   "cell_type": "code",
   "execution_count": 20,
   "id": "c9988658",
   "metadata": {},
   "outputs": [
    {
     "data": {
      "image/png": "[encoded data removed]",
      "text/plain": [
       "<Figure size 432x288 with 1 Axes>"
      ]
     },
     "metadata": {
      "needs_background": "light"
     },
     "output_type": "display_data"
    }
   ],
   "source": [
    "plt.title('Loss')\n",
    "plt.xlabel('number of epochs')\n",
    "plt.xticks(np.arange(0,epochs))\n",
    "plt.ylabel('loss')\n",
    "plt.plot(np.arange(0, epochs), history.history['loss'],'r', label='training_loss')\n",
    "plt.plot(np.arange(0, epochs), history.history['val_loss'], label='validation_loss')\n",
    "plt.legend(loc='best')\n",
    "plt.show()"
   ]
  },
  {
   "cell_type": "code",
   "execution_count": 21,
   "id": "7d0b99ae",
   "metadata": {},
   "outputs": [
    {
     "data": {
      "image/png": "[encoded data removed]",
      "text/plain": [
       "<Figure size 432x288 with 1 Axes>"
      ]
     },
     "metadata": {
      "needs_background": "light"
     },
     "output_type": "display_data"
    }
   ],
   "source": [
    "plt.title('Accuracy')\n",
    "plt.xlabel('number of epochs')\n",
    "plt.xticks(np.arange(0, epochs))\n",
    "plt.ylabel('Accuracy')\n",
    "plt.plot(np.arange(0, epochs), history.history['accuracy'],'r',label = 'training_accuracy')\n",
    "plt.plot(np.arange(0, epochs), history.history['val_accuracy'],label='validation_accuracy')\n",
    "plt.legend(loc='best')\n",
    "plt.show()"
   ]
  },
  {
   "cell_type": "code",
   "execution_count": 22,
   "id": "442ff403",
   "metadata": {},
   "outputs": [
    {
     "name": "stdout",
     "output_type": "stream",
     "text": [
      "12/12 [==============================] - 1s 71ms/step - loss: 0.0662 - accuracy: 0.9790\n",
      "Test loss:  0.06619599461555481\n",
      "Test accuracy:  0.9790025949478149\n"
     ]
    }
   ],
   "source": [
    "test_scores = model.evaluate(X_test, y_test)\n",
    "print('Test loss: ', test_scores[0])\n",
    "print('Test accuracy: ', test_scores[1])"
   ]
  },
  {
   "cell_type": "code",
   "execution_count": 50,
   "id": "e9db0ea4",
   "metadata": {},
   "outputs": [],
   "source": [
    "model_path = 'covid19_different_dropout_classifier.h5'\n",
    "model.save(model_path)"
   ]
  },
  {
   "cell_type": "code",
   "execution_count": 23,
   "id": "7e907e44",
   "metadata": {},
   "outputs": [],
   "source": [
    "#adjusting network with 20 epochs and same dropout rate as in last model"
   ]
  },
  {
   "cell_type": "code",
   "execution_count": 40,
   "id": "fb264a96",
   "metadata": {},
   "outputs": [
    {
     "name": "stdout",
     "output_type": "stream",
     "text": [
      "Epoch 1/20\n",
      "43/43 [==============================] - 13s 283ms/step - loss: 0.5039 - accuracy: 0.7505 - val_loss: 0.2638 - val_accuracy: 0.9412\n",
      "Epoch 2/20\n",
      "43/43 [==============================] - 14s 321ms/step - loss: 0.2308 - accuracy: 0.9300 - val_loss: 0.1247 - val_accuracy: 0.9739\n",
      "Epoch 3/20\n",
      "43/43 [==============================] - 14s 334ms/step - loss: 0.1344 - accuracy: 0.9555 - val_loss: 0.0762 - val_accuracy: 0.9608\n",
      "Epoch 4/20\n",
      "43/43 [==============================] - 14s 331ms/step - loss: 0.1037 - accuracy: 0.9657 - val_loss: 0.0635 - val_accuracy: 0.9804\n",
      "Epoch 5/20\n",
      "43/43 [==============================] - 14s 332ms/step - loss: 0.0799 - accuracy: 0.9737 - val_loss: 0.0479 - val_accuracy: 0.9804\n",
      "Epoch 6/20\n",
      "43/43 [==============================] - 14s 331ms/step - loss: 0.0750 - accuracy: 0.9759 - val_loss: 0.0542 - val_accuracy: 0.9739\n",
      "Epoch 7/20\n",
      "43/43 [==============================] - 14s 335ms/step - loss: 0.0661 - accuracy: 0.9774 - val_loss: 0.0424 - val_accuracy: 0.9804\n",
      "Epoch 8/20\n",
      "43/43 [==============================] - 14s 332ms/step - loss: 0.0580 - accuracy: 0.9796 - val_loss: 0.0750 - val_accuracy: 0.9804\n",
      "Epoch 9/20\n",
      "43/43 [==============================] - 14s 333ms/step - loss: 0.0491 - accuracy: 0.9847 - val_loss: 0.0583 - val_accuracy: 0.9804\n",
      "Epoch 10/20\n",
      "43/43 [==============================] - 14s 333ms/step - loss: 0.0565 - accuracy: 0.9810 - val_loss: 0.0385 - val_accuracy: 0.9869\n",
      "Epoch 11/20\n",
      "43/43 [==============================] - 14s 333ms/step - loss: 0.0497 - accuracy: 0.9861 - val_loss: 0.0386 - val_accuracy: 0.9804\n",
      "Epoch 12/20\n",
      "43/43 [==============================] - 14s 335ms/step - loss: 0.0334 - accuracy: 0.9898 - val_loss: 0.0325 - val_accuracy: 0.9869\n",
      "Epoch 13/20\n",
      "43/43 [==============================] - 14s 334ms/step - loss: 0.0355 - accuracy: 0.9869 - val_loss: 0.0317 - val_accuracy: 0.9869\n",
      "Epoch 14/20\n",
      "43/43 [==============================] - 14s 332ms/step - loss: 0.0382 - accuracy: 0.9869 - val_loss: 0.0355 - val_accuracy: 0.9804\n",
      "Epoch 15/20\n",
      "43/43 [==============================] - 14s 333ms/step - loss: 0.0346 - accuracy: 0.9898 - val_loss: 0.0312 - val_accuracy: 0.9935\n",
      "Epoch 16/20\n",
      "43/43 [==============================] - 14s 333ms/step - loss: 0.0303 - accuracy: 0.9891 - val_loss: 0.0326 - val_accuracy: 0.9869\n",
      "Epoch 17/20\n",
      "43/43 [==============================] - 14s 334ms/step - loss: 0.0254 - accuracy: 0.9927 - val_loss: 0.0353 - val_accuracy: 0.9804\n",
      "Epoch 18/20\n",
      "43/43 [==============================] - 15s 353ms/step - loss: 0.0240 - accuracy: 0.9912 - val_loss: 0.0477 - val_accuracy: 0.9804\n",
      "Epoch 19/20\n",
      "43/43 [==============================] - 15s 359ms/step - loss: 0.0268 - accuracy: 0.9912 - val_loss: 0.0271 - val_accuracy: 0.9869\n",
      "Epoch 20/20\n",
      "43/43 [==============================] - 15s 345ms/step - loss: 0.0250 - accuracy: 0.9934 - val_loss: 0.0326 - val_accuracy: 0.9935\n"
     ]
    }
   ],
   "source": [
    "epochs = 20\n",
    "history = model.fit(X_train, y_train, epochs=epochs, batch_size=batch_size, validation_split=0.1, verbose=1)"
   ]
  },
  {
   "cell_type": "code",
   "execution_count": 41,
   "id": "0bf02ff4",
   "metadata": {},
   "outputs": [
    {
     "data": {
      "image/png": "[encoded data removed]",
      "text/plain": [
       "<Figure size 432x288 with 1 Axes>"
      ]
     },
     "metadata": {
      "needs_background": "light"
     },
     "output_type": "display_data"
    }
   ],
   "source": [
    "plt.title('Loss')\n",
    "plt.xlabel('number of epochs')\n",
    "plt.xticks(np.arange(0,epochs))\n",
    "plt.ylabel('loss')\n",
    "plt.plot(np.arange(0, epochs), history.history['loss'],'r', label='training_loss')\n",
    "plt.plot(np.arange(0, epochs), history.history['val_loss'], label='validation_loss')\n",
    "plt.legend(loc='best')\n",
    "plt.show()"
   ]
  },
  {
   "cell_type": "code",
   "execution_count": 42,
   "id": "f220f5c6",
   "metadata": {},
   "outputs": [
    {
     "data": {
      "image/png": "[encoded data removed]",
      "text/plain": [
       "<Figure size 432x288 with 1 Axes>"
      ]
     },
     "metadata": {
      "needs_background": "light"
     },
     "output_type": "display_data"
    }
   ],
   "source": [
    "plt.title('Accuracy')\n",
    "plt.xlabel('number of epochs')\n",
    "plt.xticks(np.arange(0, epochs))\n",
    "plt.ylabel('Accuracy')\n",
    "plt.plot(np.arange(0, epochs), history.history['accuracy'],'r',label = 'training_accuracy')\n",
    "plt.plot(np.arange(0, epochs), history.history['val_accuracy'],label='validation_accuracy')\n",
    "plt.legend(loc='best')\n",
    "plt.show()"
   ]
  },
  {
   "cell_type": "code",
   "execution_count": 43,
   "id": "a76454ac",
   "metadata": {},
   "outputs": [
    {
     "name": "stdout",
     "output_type": "stream",
     "text": [
      "12/12 [==============================] - 1s 85ms/step - loss: 0.0238 - accuracy: 0.9895\n",
      "Test loss:  0.023795468732714653\n",
      "Test accuracy:  0.9895012974739075\n"
     ]
    }
   ],
   "source": [
    "test_scores = model.evaluate(X_test, y_test)\n",
    "print('Test loss: ', test_scores[0])\n",
    "print('Test accuracy: ', test_scores[1])"
   ]
  },
  {
   "cell_type": "markdown",
   "id": "194f31a2",
   "metadata": {},
   "source": [
    "# This is the best model with best hyperparameters\n",
    "# this will be used as our best model"
   ]
  },
  {
   "cell_type": "code",
   "execution_count": 45,
   "id": "fbfca1ff",
   "metadata": {},
   "outputs": [],
   "source": [
    "from tensorflow.keras.models import load_model"
   ]
  },
  {
   "cell_type": "code",
   "execution_count": 46,
   "id": "83068caa",
   "metadata": {},
   "outputs": [],
   "source": [
    "model_path = 'covid19_best_classifier.h5'"
   ]
  },
  {
   "cell_type": "code",
   "execution_count": 47,
   "id": "93b2b705",
   "metadata": {},
   "outputs": [],
   "source": [
    "model.save(model_path)"
   ]
  },
  {
   "cell_type": "code",
   "execution_count": 48,
   "id": "315e28e3",
   "metadata": {},
   "outputs": [],
   "source": [
    "reloaded_model = load_model(model_path)"
   ]
  },
  {
   "cell_type": "code",
   "execution_count": 49,
   "id": "bce109ca",
   "metadata": {},
   "outputs": [
    {
     "data": {
      "text/plain": [
       "{'name': 'sequential_3',\n",
       " 'layers': [{'class_name': 'InputLayer',\n",
       "   'config': {'batch_input_shape': (None, 100, 100, 1),\n",
       "    'dtype': 'float32',\n",
       "    'sparse': False,\n",
       "    'ragged': False,\n",
       "    'name': 'input_4'}},\n",
       "  {'class_name': 'Conv2D',\n",
       "   'config': {'name': 'conv2d_6',\n",
       "    'trainable': True,\n",
       "    'dtype': 'float32',\n",
       "    'filters': 64,\n",
       "    'kernel_size': (3, 3),\n",
       "    'strides': (1, 1),\n",
       "    'padding': 'valid',\n",
       "    'data_format': 'channels_last',\n",
       "    'dilation_rate': (1, 1),\n",
       "    'groups': 1,\n",
       "    'activation': 'linear',\n",
       "    'use_bias': True,\n",
       "    'kernel_initializer': {'class_name': 'GlorotUniform',\n",
       "     'config': {'seed': None}},\n",
       "    'bias_initializer': {'class_name': 'Zeros', 'config': {}},\n",
       "    'kernel_regularizer': None,\n",
       "    'bias_regularizer': None,\n",
       "    'activity_regularizer': None,\n",
       "    'kernel_constraint': None,\n",
       "    'bias_constraint': None}},\n",
       "  {'class_name': 'Activation',\n",
       "   'config': {'name': 'activation_6',\n",
       "    'trainable': True,\n",
       "    'dtype': 'float32',\n",
       "    'activation': 'relu'}},\n",
       "  {'class_name': 'MaxPooling2D',\n",
       "   'config': {'name': 'max_pooling2d_6',\n",
       "    'trainable': True,\n",
       "    'dtype': 'float32',\n",
       "    'pool_size': (2, 2),\n",
       "    'padding': 'valid',\n",
       "    'strides': (2, 2),\n",
       "    'data_format': 'channels_last'}},\n",
       "  {'class_name': 'Conv2D',\n",
       "   'config': {'name': 'conv2d_7',\n",
       "    'trainable': True,\n",
       "    'dtype': 'float32',\n",
       "    'filters': 32,\n",
       "    'kernel_size': (3, 3),\n",
       "    'strides': (1, 1),\n",
       "    'padding': 'valid',\n",
       "    'data_format': 'channels_last',\n",
       "    'dilation_rate': (1, 1),\n",
       "    'groups': 1,\n",
       "    'activation': 'linear',\n",
       "    'use_bias': True,\n",
       "    'kernel_initializer': {'class_name': 'GlorotUniform',\n",
       "     'config': {'seed': None}},\n",
       "    'bias_initializer': {'class_name': 'Zeros', 'config': {}},\n",
       "    'kernel_regularizer': None,\n",
       "    'bias_regularizer': None,\n",
       "    'activity_regularizer': None,\n",
       "    'kernel_constraint': None,\n",
       "    'bias_constraint': None}},\n",
       "  {'class_name': 'Activation',\n",
       "   'config': {'name': 'activation_7',\n",
       "    'trainable': True,\n",
       "    'dtype': 'float32',\n",
       "    'activation': 'relu'}},\n",
       "  {'class_name': 'MaxPooling2D',\n",
       "   'config': {'name': 'max_pooling2d_7',\n",
       "    'trainable': True,\n",
       "    'dtype': 'float32',\n",
       "    'pool_size': (2, 2),\n",
       "    'padding': 'valid',\n",
       "    'strides': (2, 2),\n",
       "    'data_format': 'channels_last'}},\n",
       "  {'class_name': 'Flatten',\n",
       "   'config': {'name': 'flatten_3',\n",
       "    'trainable': True,\n",
       "    'dtype': 'float32',\n",
       "    'data_format': 'channels_last'}},\n",
       "  {'class_name': 'Dropout',\n",
       "   'config': {'name': 'dropout_9',\n",
       "    'trainable': True,\n",
       "    'dtype': 'float32',\n",
       "    'rate': 0.25,\n",
       "    'noise_shape': None,\n",
       "    'seed': None}},\n",
       "  {'class_name': 'Dense',\n",
       "   'config': {'name': 'dense_9',\n",
       "    'trainable': True,\n",
       "    'dtype': 'float32',\n",
       "    'units': 128,\n",
       "    'activation': 'relu',\n",
       "    'use_bias': True,\n",
       "    'kernel_initializer': {'class_name': 'GlorotUniform',\n",
       "     'config': {'seed': None}},\n",
       "    'bias_initializer': {'class_name': 'Zeros', 'config': {}},\n",
       "    'kernel_regularizer': None,\n",
       "    'bias_regularizer': None,\n",
       "    'activity_regularizer': None,\n",
       "    'kernel_constraint': None,\n",
       "    'bias_constraint': None}},\n",
       "  {'class_name': 'Dropout',\n",
       "   'config': {'name': 'dropout_10',\n",
       "    'trainable': True,\n",
       "    'dtype': 'float32',\n",
       "    'rate': 0.25,\n",
       "    'noise_shape': None,\n",
       "    'seed': None}},\n",
       "  {'class_name': 'Dense',\n",
       "   'config': {'name': 'dense_10',\n",
       "    'trainable': True,\n",
       "    'dtype': 'float32',\n",
       "    'units': 64,\n",
       "    'activation': 'relu',\n",
       "    'use_bias': True,\n",
       "    'kernel_initializer': {'class_name': 'GlorotUniform',\n",
       "     'config': {'seed': None}},\n",
       "    'bias_initializer': {'class_name': 'Zeros', 'config': {}},\n",
       "    'kernel_regularizer': None,\n",
       "    'bias_regularizer': None,\n",
       "    'activity_regularizer': None,\n",
       "    'kernel_constraint': None,\n",
       "    'bias_constraint': None}},\n",
       "  {'class_name': 'Dropout',\n",
       "   'config': {'name': 'dropout_11',\n",
       "    'trainable': True,\n",
       "    'dtype': 'float32',\n",
       "    'rate': 0.25,\n",
       "    'noise_shape': None,\n",
       "    'seed': None}},\n",
       "  {'class_name': 'Dense',\n",
       "   'config': {'name': 'dense_11',\n",
       "    'trainable': True,\n",
       "    'batch_input_shape': (None, 128),\n",
       "    'dtype': 'float32',\n",
       "    'units': 2,\n",
       "    'activation': 'softmax',\n",
       "    'use_bias': True,\n",
       "    'kernel_initializer': {'class_name': 'GlorotUniform',\n",
       "     'config': {'seed': None}},\n",
       "    'bias_initializer': {'class_name': 'Zeros', 'config': {}},\n",
       "    'kernel_regularizer': None,\n",
       "    'bias_regularizer': None,\n",
       "    'activity_regularizer': None,\n",
       "    'kernel_constraint': None,\n",
       "    'bias_constraint': None}}]}"
      ]
     },
     "execution_count": 49,
     "metadata": {},
     "output_type": "execute_result"
    }
   ],
   "source": [
    "reloaded_model.get_config()"
   ]
  },
  {
   "cell_type": "code",
   "execution_count": null,
   "id": "78e5877d",
   "metadata": {},
   "outputs": [],
   "source": []
  }
 ],
 "metadata": {
  "kernelspec": {
   "display_name": "Python 3 (ipykernel)",
   "language": "python",
   "name": "python3"
  },
  "language_info": {
   "codemirror_mode": {
    "name": "ipython",
    "version": 3
   },
   "file_extension": ".py",
   "mimetype": "text/x-python",
   "name": "python",
   "nbconvert_exporter": "python",
   "pygments_lexer": "ipython3",
   "version": "3.9.7"
  }
 },
 "nbformat": 4,
 "nbformat_minor": 5
}
